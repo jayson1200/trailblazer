{
 "cells": [
  {
   "cell_type": "code",
   "execution_count": 96,
   "metadata": {},
   "outputs": [],
   "source": [
    "import numpy as np"
   ]
  },
  {
   "cell_type": "code",
   "execution_count": 97,
   "metadata": {},
   "outputs": [
    {
     "data": {
      "text/plain": [
       "array([[3, 0, 1, 5, 3],\n",
       "       [1, 5, 5, 1, 1],\n",
       "       [0, 4, 3, 0, 1],\n",
       "       [0, 1, 2, 0, 5],\n",
       "       [1, 1, 1, 0, 1]])"
      ]
     },
     "execution_count": 97,
     "metadata": {},
     "output_type": "execute_result"
    }
   ],
   "source": [
    "RATINGS_MAT = np.array([[3, 0, 1, 5, 3],\n",
    "                        [1, 5, 5, 1, 1],\n",
    "                        [0, 4, 3, 0, 1],\n",
    "                        [0, 1, 2, 0, 5],\n",
    "                        [1, 1, 1, 0, 1]])\n",
    "\n",
    "'''\n",
    "The question here is what happens to the first column when we try\n",
    "the matrix completion reccomendation algorithm\n",
    "\n",
    "Does it take large influence from the last two columns\n",
    "'''\n",
    "\n",
    "RATINGS_MAT"
   ]
  },
  {
   "cell_type": "code",
   "execution_count": 98,
   "metadata": {},
   "outputs": [
    {
     "name": "stdout",
     "output_type": "stream",
     "text": [
      "The largest singular value is 10.051400364084126 and the second largest singular value 6.2446115269259765\n"
     ]
    },
    {
     "data": {
      "text/plain": [
       "array([10.05140036,  6.24461153,  3.99451421,  0.83243215,  0.57016709])"
      ]
     },
     "execution_count": 98,
     "metadata": {},
     "output_type": "execute_result"
    }
   ],
   "source": [
    "U, S, V = np.linalg.svd(RATINGS_MAT)\n",
    "\n",
    "largest_s = S[0]\n",
    "second_largest_s = S[1]\n",
    "third_largest_s = S[3]\n",
    "\n",
    "print(f'The largest singular value is {largest_s} and the second largest singular value {second_largest_s}')\n",
    "\n",
    "S"
   ]
  },
  {
   "cell_type": "code",
   "execution_count": 99,
   "metadata": {},
   "outputs": [
    {
     "data": {
      "text/plain": [
       "array([[-2.07344891, -3.74584966,  0.35758834, -3.81693896,  2.99275681],\n",
       "       [ 2.79304475, -1.23462425,  2.71113449, -5.48909939, -2.15173905],\n",
       "       [ 2.19069823, -0.52539389,  1.93900088, -3.58854579, -2.00535656],\n",
       "       [-0.40373007, -2.19914111,  1.08148315, -3.4626033 , -0.27525095],\n",
       "       [ 0.29397469, -0.67952081,  0.59988121, -1.53872759, -0.23431388]])"
      ]
     },
     "execution_count": 99,
     "metadata": {},
     "output_type": "execute_result"
    }
   ],
   "source": [
    "# New ratings \n",
    "\n",
    "NEW_SIGMA = np.diag(np.array([largest_s, second_largest_s, third_largest_s]))\n",
    "\n",
    "REC = U[:, :3] @ NEW_SIGMA  @ V[:, :3].T\n",
    "\n",
    "REC"
   ]
  },
  {
   "cell_type": "code",
   "execution_count": 100,
   "metadata": {},
   "outputs": [],
   "source": [
    "# Lets compare:\n",
    "REC_STR = np.array_str(REC, precision=4, suppress_small=True)\n",
    "RATINGS_STR = np.array_str(RATINGS_MAT, precision=4, suppress_small=True)"
   ]
  },
  {
   "cell_type": "code",
   "execution_count": 101,
   "metadata": {},
   "outputs": [
    {
     "name": "stdout",
     "output_type": "stream",
     "text": [
      "[[-2.0734 -3.7458  0.3576 -3.8169  2.9928]\n",
      " [ 2.793  -1.2346  2.7111 -5.4891 -2.1517]\n",
      " [ 2.1907 -0.5254  1.939  -3.5885 -2.0054]\n",
      " [-0.4037 -2.1991  1.0815 -3.4626 -0.2753]\n",
      " [ 0.294  -0.6795  0.5999 -1.5387 -0.2343]]\n",
      "[[3 0 1 5 3]\n",
      " [1 5 5 1 1]\n",
      " [0 4 3 0 1]\n",
      " [0 1 2 0 5]\n",
      " [1 1 1 0 1]]\n"
     ]
    }
   ],
   "source": [
    "print(REC_STR)\n",
    "print(RATINGS_STR)"
   ]
  }
 ],
 "metadata": {
  "kernelspec": {
   "display_name": "ml-env",
   "language": "python",
   "name": "python3"
  },
  "language_info": {
   "codemirror_mode": {
    "name": "ipython",
    "version": 3
   },
   "file_extension": ".py",
   "mimetype": "text/x-python",
   "name": "python",
   "nbconvert_exporter": "python",
   "pygments_lexer": "ipython3",
   "version": "3.12.0"
  }
 },
 "nbformat": 4,
 "nbformat_minor": 2
}
