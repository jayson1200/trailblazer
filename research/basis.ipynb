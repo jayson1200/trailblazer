{
 "cells": [
  {
   "cell_type": "markdown",
   "metadata": {},
   "source": [
    "# **Trailblazer** 🔥\n",
    "\n",
    "Trailblazer is a course recommender that uses the Naive Bayes machine learning algorithm, augmented with a Bayesian Network, to recommend CS classes to CS students based on classes they have taken before\n"
   ]
  }
 ],
 "metadata": {
  "language_info": {
   "name": "python"
  }
 },
 "nbformat": 4,
 "nbformat_minor": 2
}
